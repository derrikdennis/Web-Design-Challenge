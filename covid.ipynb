{
 "metadata": {
  "language_info": {
   "codemirror_mode": {
    "name": "ipython",
    "version": 3
   },
   "file_extension": ".py",
   "mimetype": "text/x-python",
   "name": "python",
   "nbconvert_exporter": "python",
   "pygments_lexer": "ipython3",
   "version": "3.7.6-final"
  },
  "orig_nbformat": 2,
  "kernelspec": {
   "name": "python3",
   "display_name": "Python 3"
  }
 },
 "nbformat": 4,
 "nbformat_minor": 2,
 "cells": [
  {
   "cell_type": "code",
   "execution_count": 111,
   "metadata": {},
   "outputs": [],
   "source": [
    "import numpy as np\n",
    "import pandas as pd\n",
    "\n",
    "import matplotlib.pyplot as plt\n",
    "import requests\n",
    "import arrow\n",
    "import seaborn as sns\n",
    "\n",
    "input_cases = \"Resources\\CasesbyCounty.xlsx\"\n",
    "input_active_cases = \"Resources\\ActiveCasesbyCounty.xlsx\"\n",
    "input_deaths = \"Resources\\FatalitiesbyCounty.xlsx\"\n",
    "input_tests = \"Resources\\TestsbyCounty.xlsx\" "
   ]
  },
  {
   "cell_type": "code",
   "execution_count": 126,
   "metadata": {
    "tags": []
   },
   "outputs": [
    {
     "output_type": "stream",
     "name": "stdout",
     "text": "['CountyName', 'Population', '03-04-20', '03-05-20', '03-06-20', '03-09-20', '03-10-20', '03-11-20', '03-12-20', '03-13-20', '03-15-20', '03-16-20', '03-17-20', '03-18-20', '03-19-20', '03-20-20', '03-21-20', '03-22-20', '03-23-20', '03-24-20', '03-25-20', '03-26-20', '03-27-20', '03-28-20', '03-29-20', '03-30-20', '03-31-20', '04-01-20', '04-02-20', '04-03-20', '04-04-20', '04-05-20', '04-06-20', '04-07-20', '04-08-20', '04-09-20', '04-10-20', '04-11-20', '04-12-20', '04-13-20', '04-14-20', '04-15-20', '04-16-20', '04-17-20', '04-18-20', '04-19-20', '04-20-20', '04-21-20', '04-22-20', '04-23-20', '04-24-20', '04-25-20', '04-26-20', '04-27-20', '04-28-20', '04-29-20', '04-30-20', '05-01-20', '05-02-20', '05-03-20', '05-04-20', '05-05-20', '05-06-20', '05-07-20', '05-08-20', '05-09-20', '05-10-20', '05-11-20', '05-12-20', '05-13-20', '05-14-20', '05-15-20', '05-16-20', '05-17-20', '05-18-20', '05-19-20', '05-20-20', '05-21-20', '05-22-20', '05-23-20', '05-24-20', '05-25-20', '05-26-20', '05-27-20', '05-28-20', '05-29-20', '05-30-20', '05-31-20', '06-01-20', '06-02-20', '06-03-20', '06-04-20', '06-05-20', '06-06-20', '06-07-20', '06-08-20', '06-09-20', '06-10-20', '06-11-20', '06-12-20', '06-13-20', '06-14-20', '06-15-20', '06-16-20', '06-17-20', '06-18-20', '06-19-20', '06-20-20', '06-21-20', '06-22-20', '06-23-20', '06-24-20', '06-25-20', '06-26-20', '06-27-20', '06-28-20', '06-29-20', '06-30-20', '07-01-20', '07-02-20', '07-03-20', '07-04-20', '07-05-20', '07-06-20', '07-07-20', '07-08-20', '07-09-20', '07-10-20', '07-11-20', '07-12-20', '07-13-20', '07-14-20', '07-15-20', '07-16-20', '07-17-20', '07-18-20', 'Cumulative Cases']\n"
    }
   ],
   "source": [
    "cases = pd.read_excel(input_cases,skiprows=2, na_values = 'NaN')\n",
    "pattern = r'\\n'\n",
    "cases.columns = cases.columns.str.replace('\\r','').str.replace('\\n','').str.replace('Cases ','').str.replace('*','').str.replace(' ','')+\"-20\"\n",
    "cases.rename(columns={'CountyName-20':'CountyName','Population-20':'Population','07-19-20':'Cumulative Cases'}, inplace=True)\n",
    "print(list(cases.columns))\n"
   ]
  },
  {
   "cell_type": "code",
   "execution_count": 113,
   "metadata": {},
   "outputs": [
    {
     "output_type": "execute_result",
     "data": {
      "text/plain": "    CountyName Population  Cumulative Cases\n0     Anderson      58199            2017.0\n1      Andrews      22269             189.0\n2     Angelina      90437            1000.0\n3      Aransas      27699              91.0\n4       Archer       8344              12.0\n..         ...        ...               ...\n250     Yoakum       9225              56.0\n251      Young      18712              71.0\n252     Zapata      14409             113.0\n253     Zavala      12682              95.0\n254      Total   29677668          325030.0\n\n[255 rows x 3 columns]",
      "text/html": "<div>\n<style scoped>\n    .dataframe tbody tr th:only-of-type {\n        vertical-align: middle;\n    }\n\n    .dataframe tbody tr th {\n        vertical-align: top;\n    }\n\n    .dataframe thead th {\n        text-align: right;\n    }\n</style>\n<table border=\"1\" class=\"dataframe\">\n  <thead>\n    <tr style=\"text-align: right;\">\n      <th></th>\n      <th>CountyName</th>\n      <th>Population</th>\n      <th>Cumulative Cases</th>\n    </tr>\n  </thead>\n  <tbody>\n    <tr>\n      <th>0</th>\n      <td>Anderson</td>\n      <td>58199</td>\n      <td>2017.0</td>\n    </tr>\n    <tr>\n      <th>1</th>\n      <td>Andrews</td>\n      <td>22269</td>\n      <td>189.0</td>\n    </tr>\n    <tr>\n      <th>2</th>\n      <td>Angelina</td>\n      <td>90437</td>\n      <td>1000.0</td>\n    </tr>\n    <tr>\n      <th>3</th>\n      <td>Aransas</td>\n      <td>27699</td>\n      <td>91.0</td>\n    </tr>\n    <tr>\n      <th>4</th>\n      <td>Archer</td>\n      <td>8344</td>\n      <td>12.0</td>\n    </tr>\n    <tr>\n      <th>...</th>\n      <td>...</td>\n      <td>...</td>\n      <td>...</td>\n    </tr>\n    <tr>\n      <th>250</th>\n      <td>Yoakum</td>\n      <td>9225</td>\n      <td>56.0</td>\n    </tr>\n    <tr>\n      <th>251</th>\n      <td>Young</td>\n      <td>18712</td>\n      <td>71.0</td>\n    </tr>\n    <tr>\n      <th>252</th>\n      <td>Zapata</td>\n      <td>14409</td>\n      <td>113.0</td>\n    </tr>\n    <tr>\n      <th>253</th>\n      <td>Zavala</td>\n      <td>12682</td>\n      <td>95.0</td>\n    </tr>\n    <tr>\n      <th>254</th>\n      <td>Total</td>\n      <td>29677668</td>\n      <td>325030.0</td>\n    </tr>\n  </tbody>\n</table>\n<p>255 rows × 3 columns</p>\n</div>"
     },
     "metadata": {},
     "execution_count": 113
    }
   ],
   "source": [
    "latest_date_info = cases[['CountyName','Population','Cumulative Cases']]\n",
    "latest_date_info.dropna(inplace=True)\n",
    "latest_date_info = latest_date_info[:-1]\n",
    "latest_date_info"
   ]
  },
  {
   "cell_type": "code",
   "execution_count": 140,
   "metadata": {
    "tags": []
   },
   "outputs": [
    {
     "output_type": "stream",
     "name": "stdout",
     "text": "['CountyName', 'Population/20', '3/4/20', '3/5/20', '3/6/20', '3/7/20', '3/8/20', '3/9/20', '3/10/20', '3/11/20', '3/12/20', '3/13/20', '3/14/20', '3/15/20', '3/16/20', '3/17/20', '3/18/20', '3/19/20', '3/20/20', '3/21/20', '3/22/20', '3/23/20', '3/24/20', '3/25/20', '3/26/20', '3/27/20', '3/28/20', '3/29/20', '3/30/20', '3/31/20', '4/1/20', '4/2/20', '4/3/20', '4/4/20', '4/5/20', '4/6/20', '4/7/20', '4/8/20', '4/9/20', '4/10/20', '4/11/20', '4/12/20', '4/13/20', '4/14/20', '4/15/20', '4/16/20', '4/17/20', '4/18/20', '4/19/20', '4/20/20', '4/21/20', '4/22/20', '4/23/20', '4/24/20', '4/25/20', '4/26/20', '4/27/20', '4/28/20', '4/29/20', '4/30/20', '5/1/20', '5/2/20', '5/3/20', '5/4/20', '5/5/20', '5/6/20', '5/7/20', '5/8/20', '5/9/20', '5/10/20', '5/11/20', '5/12/20', '5/13/20', '5/14/20', '5/15/20', '5/16/20', '5/17/20', '5/18/20', '5/19/20', '5/20/20', '5/21/20', '5/22/20', '5/23/20', '5/24/20', '5/25/20', '5/26/20', '5/27/20', '5/28/20', '5/29/20', '5/30/20', '5/31/20', '06/01/20', '06/02/20', '06/03/20', '06/04/20', '06/05/20', '06/06/20', '06/07/20', '06/08/20', '06/09/20', '06/10/20', '06/11/20', '06/12/20', '06/13/20', '06/14/20', '06/15/20', '06/16/20', '06/17/20', '06/18/20', '06/19/20', '06/20/20', '06/21/20', '06/22/20', '06/23/20', '06/24/20', '06/25/20', '06/26/20', '06/27/20', '06/28/20', '06/29/20', '06/30/20', '07/01/20', '07/02/20', '07/03/20', '07/04/20', '07/05/20', '07/06/20', '07/07/20', '07/08/20', '07/09/20', '07/10/20', '07/11/20', '07/12/20', '07/13/20', '07/14/20', '07/15/20', '07/16/20', '07/17/20', '07/18/20', 'Fatalities']\n"
    }
   ],
   "source": [
    "fatalities = pd.read_excel(input_deaths,skiprows=2, na_values = 'NaN')\n",
    "fatalities.columns = fatalities.columns.str.replace('\\r','').str.replace('\\n','').str.replace('Fatalities ','')+\"/20\"\n",
    "fatalities.rename(columns={'County Name/20':'CountyName','07/19/20':'Fatalities'}, inplace=True)\n",
    "print(list(fatalities.columns))"
   ]
  },
  {
   "cell_type": "code",
   "execution_count": 142,
   "metadata": {},
   "outputs": [],
   "source": [
    "fatalities_info = fatalities[['CountyName','Fatalities']]"
   ]
  },
  {
   "cell_type": "code",
   "execution_count": 146,
   "metadata": {
    "tags": []
   },
   "outputs": [
    {
     "output_type": "stream",
     "name": "stdout",
     "text": "['CountyName', 'April 21, 2020', 'April 22, 2020', 'April 23, 2020', 'April 24, 2020', 'April 25, 2020', 'April 26, 2020', 'April 27, 2020', 'April 28, 2020', 'April 29, 2020', 'April 30, 2020', 'May 1, 2020', 'May 2, 2020', 'May 3, 2020', 'May 4, 2020', 'May 5*, 2020', 'May 6, 2020', 'May 7, 2020', 'May 8, 2020', 'May 9, 2020', 'May 10, 2020', 'May 11, 2020', 'May 12, 2020', 'May 13, 2020', 'May 14, 2020', 'May 15, 2020', 'May 16, 2020', 'May 17, 2020', 'May 18, 2020', 'May 19, 2020', 'May 20, 2020', 'May 21, 2020', 'May 22, 2020', 'May 23, 2020', 'May 24, 2020', 'May 25, 2020', 'May 26, 2020', 'May 27, 2020', 'May 28, 2020', 'May 29, 2020', 'May 30, 2020', 'May 31, 2020', 'June 1, 2020', 'June 2, 2020', 'June 3, 2020', 'June 4, 2020', 'June 5, 2020', 'June 6, 2020', 'June 7, 2020', 'June 8, 2020', 'June 9, 2020', 'June 10, 2020', 'June 11, 2020', 'June 12, 2020', 'June 13, 2020', 'June 14, 2020', 'June 15, 2020', 'June 16, 2020', 'June 17, 2020', 'June 18, 2020', 'June 19, 2020', 'June 20, 2020', 'June 21, 2020', 'June 22, 2020', 'June 23, 2020', 'June 24, 2020', 'June 25, 2020', 'June 26, 2020', 'June 27, 2020', 'June 28, 2020', 'June 29, 2020', 'June 30, 2020', 'July 1, 2020', 'July 2, 2020', 'July 3, 2020', 'July 4, 2020', 'July 5, 2020', 'July 6, 2020', 'July 7, 2020', 'July 8, 2020', 'July 9, 2020', 'July 10, 2020', 'July 11, 2020', 'July 12, 2020', 'July 13, 2020', 'July 14, 2020', 'July 15, 2020', 'July 16, 2020', 'July 17, 2020', 'July 18, 2020', 'Num of Tests']\n"
    }
   ],
   "source": [
    "tests = pd.read_excel(input_tests,skiprows=1, na_values = 'NaN')\n",
    "tests.columns = tests.columns.str.replace('Tests Through ','')+\", 2020\"\n",
    "tests.rename(columns={'County, 2020':'CountyName','July 19, 2020':'Num of Tests'}, inplace=True)\n",
    "print(list(tests.columns))"
   ]
  },
  {
   "cell_type": "code",
   "execution_count": 148,
   "metadata": {},
   "outputs": [],
   "source": [
    "tests_info = tests[['CountyName','Num of Tests']]"
   ]
  },
  {
   "cell_type": "code",
   "execution_count": 151,
   "metadata": {
    "tags": []
   },
   "outputs": [
    {
     "output_type": "stream",
     "name": "stdout",
     "text": "['...1-20', 'CountyName', '4-7-20', '4-8-20', '4-9-20', '4-10-20', '4-11-20', '4-12-20', '4-13-20', '4-14-20', '4-15-20', '4-16-20', '4-17-20', '4-18-20', '4-19-20', '4-20-20', '4-21-20', '4-22-20', '4-23-20', '4-24-20', '4-25-20', '4-26-20', '4-27-20', '4-28-20', '4-29-20', '4-30-20', '5-1-20', '5-2-20', '5-3-20', '5-4-20', '5-5-20', '5-6-20', '5-7-20', '5-8-20', '5-9-20', '5-10-20', '5-11-20', '5-12-20', '5-13-20', '5-14-20', '5-15-20', '5-16-20', '5-17-20', '5-18-20', '5-19-20', '5-20-20', '5-21-20', '5-22-20', '5-23-20', '5-24-20', '5-25-20', '5-26-20', '5-27-20', '5-28-20', '5-29-20', '5-30-20', '5-31-20', '6-1-20', '6-2-20', '6-3-20', '6-4-20', '6-5-20', '6-6-20', '06-07-20', '06-08-20', '06-09-20', '06-10-20', '06-11-20', '06-12-20', '06-13-20', '06-14-20', '06-15-20', '06-16-20', '06-17-20', '06-18-20', '06-19-20', '06-20-20', '06-21-20', '06-22-20', '06-23-20', '06-24-20', '06-25-20', '06-26-20', '06-27-20', '06-28-20', '06-29-20', '06-30-20', '07-01-20', '07-02-20', '07-03-20', '07-04-20', '07-05-20', '07-06-20', '07-07-20', '07-08-20', '07-09-20', '07-10-20', '07-11-20', '07-12-20', '07-13-20', '07-14*-20', '07-15-20', '07-16-20', '07-17-20', '07-18-20', 'Active Cases']\n"
    }
   ],
   "source": [
    "active_cases = pd.read_excel(input_active_cases,skiprows=2, na_values = 'NaN')\n",
    "active_cases.columns = active_cases.columns.str.replace('\\r','').str.replace('\\n','').str.replace('Active Cases ','').str.replace('Active  Cases  ','')+\"-20\"\n",
    "active_cases.rename(columns={'County-20':'CountyName','07-19-20':'Active Cases'}, inplace=True)\n",
    "print(list(active_cases.columns))"
   ]
  },
  {
   "cell_type": "code",
   "execution_count": 152,
   "metadata": {},
   "outputs": [],
   "source": [
    "active_cases_info = active_cases[['CountyName','Active Cases']]"
   ]
  },
  {
   "cell_type": "code",
   "execution_count": 183,
   "metadata": {},
   "outputs": [
    {
     "output_type": "execute_result",
     "data": {
      "text/plain": "    CountyName Population  Cumulative Cases  Active Cases  Fatalities  \\\n0     Anderson      58199            2017.0        1917.0         4.0   \n1      Andrews      22269             189.0         108.0         2.0   \n2     Angelina      90437            1000.0         587.0        12.0   \n3      Aransas      27699              91.0          55.0         0.0   \n4       Archer       8344              12.0           2.0         0.0   \n..         ...        ...               ...           ...         ...   \n249       Wood      45292             174.0          74.0         5.0   \n250     Yoakum       9225              56.0          19.0         0.0   \n251      Young      18712              71.0          16.0         1.0   \n252     Zapata      14409             113.0          52.0         1.0   \n253     Zavala      12682              95.0          64.0         0.0   \n\n     Num of Tests  Recoveries  Recoveries Pct  \n0         15888.0        96.0        4.759544  \n1           313.0        79.0       41.798942  \n2          6294.0       401.0       40.100000  \n3           595.0        36.0       39.560440  \n4           126.0        10.0       83.333333  \n..            ...         ...             ...  \n249        1346.0        95.0       54.597701  \n250         422.0        37.0       66.071429  \n251         801.0        54.0       76.056338  \n252        1575.0        60.0       53.097345  \n253         615.0        31.0       32.631579  \n\n[254 rows x 8 columns]",
      "text/html": "<div>\n<style scoped>\n    .dataframe tbody tr th:only-of-type {\n        vertical-align: middle;\n    }\n\n    .dataframe tbody tr th {\n        vertical-align: top;\n    }\n\n    .dataframe thead th {\n        text-align: right;\n    }\n</style>\n<table border=\"1\" class=\"dataframe\">\n  <thead>\n    <tr style=\"text-align: right;\">\n      <th></th>\n      <th>CountyName</th>\n      <th>Population</th>\n      <th>Cumulative Cases</th>\n      <th>Active Cases</th>\n      <th>Fatalities</th>\n      <th>Num of Tests</th>\n      <th>Recoveries</th>\n      <th>Recoveries Pct</th>\n    </tr>\n  </thead>\n  <tbody>\n    <tr>\n      <th>0</th>\n      <td>Anderson</td>\n      <td>58199</td>\n      <td>2017.0</td>\n      <td>1917.0</td>\n      <td>4.0</td>\n      <td>15888.0</td>\n      <td>96.0</td>\n      <td>4.759544</td>\n    </tr>\n    <tr>\n      <th>1</th>\n      <td>Andrews</td>\n      <td>22269</td>\n      <td>189.0</td>\n      <td>108.0</td>\n      <td>2.0</td>\n      <td>313.0</td>\n      <td>79.0</td>\n      <td>41.798942</td>\n    </tr>\n    <tr>\n      <th>2</th>\n      <td>Angelina</td>\n      <td>90437</td>\n      <td>1000.0</td>\n      <td>587.0</td>\n      <td>12.0</td>\n      <td>6294.0</td>\n      <td>401.0</td>\n      <td>40.100000</td>\n    </tr>\n    <tr>\n      <th>3</th>\n      <td>Aransas</td>\n      <td>27699</td>\n      <td>91.0</td>\n      <td>55.0</td>\n      <td>0.0</td>\n      <td>595.0</td>\n      <td>36.0</td>\n      <td>39.560440</td>\n    </tr>\n    <tr>\n      <th>4</th>\n      <td>Archer</td>\n      <td>8344</td>\n      <td>12.0</td>\n      <td>2.0</td>\n      <td>0.0</td>\n      <td>126.0</td>\n      <td>10.0</td>\n      <td>83.333333</td>\n    </tr>\n    <tr>\n      <th>...</th>\n      <td>...</td>\n      <td>...</td>\n      <td>...</td>\n      <td>...</td>\n      <td>...</td>\n      <td>...</td>\n      <td>...</td>\n      <td>...</td>\n    </tr>\n    <tr>\n      <th>249</th>\n      <td>Wood</td>\n      <td>45292</td>\n      <td>174.0</td>\n      <td>74.0</td>\n      <td>5.0</td>\n      <td>1346.0</td>\n      <td>95.0</td>\n      <td>54.597701</td>\n    </tr>\n    <tr>\n      <th>250</th>\n      <td>Yoakum</td>\n      <td>9225</td>\n      <td>56.0</td>\n      <td>19.0</td>\n      <td>0.0</td>\n      <td>422.0</td>\n      <td>37.0</td>\n      <td>66.071429</td>\n    </tr>\n    <tr>\n      <th>251</th>\n      <td>Young</td>\n      <td>18712</td>\n      <td>71.0</td>\n      <td>16.0</td>\n      <td>1.0</td>\n      <td>801.0</td>\n      <td>54.0</td>\n      <td>76.056338</td>\n    </tr>\n    <tr>\n      <th>252</th>\n      <td>Zapata</td>\n      <td>14409</td>\n      <td>113.0</td>\n      <td>52.0</td>\n      <td>1.0</td>\n      <td>1575.0</td>\n      <td>60.0</td>\n      <td>53.097345</td>\n    </tr>\n    <tr>\n      <th>253</th>\n      <td>Zavala</td>\n      <td>12682</td>\n      <td>95.0</td>\n      <td>64.0</td>\n      <td>0.0</td>\n      <td>615.0</td>\n      <td>31.0</td>\n      <td>32.631579</td>\n    </tr>\n  </tbody>\n</table>\n<p>254 rows × 8 columns</p>\n</div>"
     },
     "metadata": {},
     "execution_count": 183
    }
   ],
   "source": [
    "merge1 = pd.merge(latest_date_info,active_cases_info, on='CountyName')\n",
    "merge2 = pd.merge(merge1,fatalities_info, on='CountyName')\n",
    "Covid_info = pd.merge(merge2,tests_info, on='CountyName')\n",
    "Covid_info['Recoveries'] = Covid_info['Cumulative Cases'] - Covid_info['Active Cases'] - Covid_info['Fatalities']\n",
    "Covid_info['Recoveries Pct'] = (Covid_info['Recoveries']/Covid_info['Cumulative Cases'])*100\n",
    "Covid_info"
   ]
  },
  {
   "cell_type": "code",
   "execution_count": 184,
   "metadata": {},
   "outputs": [
    {
     "output_type": "execute_result",
     "data": {
      "text/plain": "           Population  Cumulative Cases  Active Cases  Fatalities  \\\nCountyName                                                          \nAnderson        58199            2017.0        1917.0         4.0   \nAndrews         22269             189.0         108.0         2.0   \nAngelina        90437            1000.0         587.0        12.0   \nAransas         27699              91.0          55.0         0.0   \nArcher           8344              12.0           2.0         0.0   \n...               ...               ...           ...         ...   \nWood            45292             174.0          74.0         5.0   \nYoakum           9225              56.0          19.0         0.0   \nYoung           18712              71.0          16.0         1.0   \nZapata          14409             113.0          52.0         1.0   \nZavala          12682              95.0          64.0         0.0   \n\n            Num of Tests  Recoveries  Recoveries Pct  \nCountyName                                            \nAnderson         15888.0        96.0        4.759544  \nAndrews            313.0        79.0       41.798942  \nAngelina          6294.0       401.0       40.100000  \nAransas            595.0        36.0       39.560440  \nArcher             126.0        10.0       83.333333  \n...                  ...         ...             ...  \nWood              1346.0        95.0       54.597701  \nYoakum             422.0        37.0       66.071429  \nYoung              801.0        54.0       76.056338  \nZapata            1575.0        60.0       53.097345  \nZavala             615.0        31.0       32.631579  \n\n[254 rows x 7 columns]",
      "text/html": "<div>\n<style scoped>\n    .dataframe tbody tr th:only-of-type {\n        vertical-align: middle;\n    }\n\n    .dataframe tbody tr th {\n        vertical-align: top;\n    }\n\n    .dataframe thead th {\n        text-align: right;\n    }\n</style>\n<table border=\"1\" class=\"dataframe\">\n  <thead>\n    <tr style=\"text-align: right;\">\n      <th></th>\n      <th>Population</th>\n      <th>Cumulative Cases</th>\n      <th>Active Cases</th>\n      <th>Fatalities</th>\n      <th>Num of Tests</th>\n      <th>Recoveries</th>\n      <th>Recoveries Pct</th>\n    </tr>\n    <tr>\n      <th>CountyName</th>\n      <th></th>\n      <th></th>\n      <th></th>\n      <th></th>\n      <th></th>\n      <th></th>\n      <th></th>\n    </tr>\n  </thead>\n  <tbody>\n    <tr>\n      <th>Anderson</th>\n      <td>58199</td>\n      <td>2017.0</td>\n      <td>1917.0</td>\n      <td>4.0</td>\n      <td>15888.0</td>\n      <td>96.0</td>\n      <td>4.759544</td>\n    </tr>\n    <tr>\n      <th>Andrews</th>\n      <td>22269</td>\n      <td>189.0</td>\n      <td>108.0</td>\n      <td>2.0</td>\n      <td>313.0</td>\n      <td>79.0</td>\n      <td>41.798942</td>\n    </tr>\n    <tr>\n      <th>Angelina</th>\n      <td>90437</td>\n      <td>1000.0</td>\n      <td>587.0</td>\n      <td>12.0</td>\n      <td>6294.0</td>\n      <td>401.0</td>\n      <td>40.100000</td>\n    </tr>\n    <tr>\n      <th>Aransas</th>\n      <td>27699</td>\n      <td>91.0</td>\n      <td>55.0</td>\n      <td>0.0</td>\n      <td>595.0</td>\n      <td>36.0</td>\n      <td>39.560440</td>\n    </tr>\n    <tr>\n      <th>Archer</th>\n      <td>8344</td>\n      <td>12.0</td>\n      <td>2.0</td>\n      <td>0.0</td>\n      <td>126.0</td>\n      <td>10.0</td>\n      <td>83.333333</td>\n    </tr>\n    <tr>\n      <th>...</th>\n      <td>...</td>\n      <td>...</td>\n      <td>...</td>\n      <td>...</td>\n      <td>...</td>\n      <td>...</td>\n      <td>...</td>\n    </tr>\n    <tr>\n      <th>Wood</th>\n      <td>45292</td>\n      <td>174.0</td>\n      <td>74.0</td>\n      <td>5.0</td>\n      <td>1346.0</td>\n      <td>95.0</td>\n      <td>54.597701</td>\n    </tr>\n    <tr>\n      <th>Yoakum</th>\n      <td>9225</td>\n      <td>56.0</td>\n      <td>19.0</td>\n      <td>0.0</td>\n      <td>422.0</td>\n      <td>37.0</td>\n      <td>66.071429</td>\n    </tr>\n    <tr>\n      <th>Young</th>\n      <td>18712</td>\n      <td>71.0</td>\n      <td>16.0</td>\n      <td>1.0</td>\n      <td>801.0</td>\n      <td>54.0</td>\n      <td>76.056338</td>\n    </tr>\n    <tr>\n      <th>Zapata</th>\n      <td>14409</td>\n      <td>113.0</td>\n      <td>52.0</td>\n      <td>1.0</td>\n      <td>1575.0</td>\n      <td>60.0</td>\n      <td>53.097345</td>\n    </tr>\n    <tr>\n      <th>Zavala</th>\n      <td>12682</td>\n      <td>95.0</td>\n      <td>64.0</td>\n      <td>0.0</td>\n      <td>615.0</td>\n      <td>31.0</td>\n      <td>32.631579</td>\n    </tr>\n  </tbody>\n</table>\n<p>254 rows × 7 columns</p>\n</div>"
     },
     "metadata": {},
     "execution_count": 184
    }
   ],
   "source": [
    "Covid_info.set_index('CountyName',inplace=True)\n",
    "Covid_info"
   ]
  },
  {
   "cell_type": "code",
   "execution_count": 186,
   "metadata": {},
   "outputs": [
    {
     "output_type": "error",
     "ename": "KeyError",
     "evalue": "'Anderson'",
     "traceback": [
      "\u001b[1;31m---------------------------------------------------------------------------\u001b[0m",
      "\u001b[1;31mKeyError\u001b[0m                                  Traceback (most recent call last)",
      "\u001b[1;32m~\\anaconda3\\lib\\site-packages\\pandas\\core\\indexes\\base.py\u001b[0m in \u001b[0;36mget_loc\u001b[1;34m(self, key, method, tolerance)\u001b[0m\n\u001b[0;32m   2645\u001b[0m             \u001b[1;32mtry\u001b[0m\u001b[1;33m:\u001b[0m\u001b[1;33m\u001b[0m\u001b[1;33m\u001b[0m\u001b[0m\n\u001b[1;32m-> 2646\u001b[1;33m                 \u001b[1;32mreturn\u001b[0m \u001b[0mself\u001b[0m\u001b[1;33m.\u001b[0m\u001b[0m_engine\u001b[0m\u001b[1;33m.\u001b[0m\u001b[0mget_loc\u001b[0m\u001b[1;33m(\u001b[0m\u001b[0mkey\u001b[0m\u001b[1;33m)\u001b[0m\u001b[1;33m\u001b[0m\u001b[1;33m\u001b[0m\u001b[0m\n\u001b[0m\u001b[0;32m   2647\u001b[0m             \u001b[1;32mexcept\u001b[0m \u001b[0mKeyError\u001b[0m\u001b[1;33m:\u001b[0m\u001b[1;33m\u001b[0m\u001b[1;33m\u001b[0m\u001b[0m\n",
      "\u001b[1;32mpandas\\_libs\\index.pyx\u001b[0m in \u001b[0;36mpandas._libs.index.IndexEngine.get_loc\u001b[1;34m()\u001b[0m\n",
      "\u001b[1;32mpandas\\_libs\\index.pyx\u001b[0m in \u001b[0;36mpandas._libs.index.IndexEngine.get_loc\u001b[1;34m()\u001b[0m\n",
      "\u001b[1;32mpandas\\_libs\\hashtable_class_helper.pxi\u001b[0m in \u001b[0;36mpandas._libs.hashtable.PyObjectHashTable.get_item\u001b[1;34m()\u001b[0m\n",
      "\u001b[1;32mpandas\\_libs\\hashtable_class_helper.pxi\u001b[0m in \u001b[0;36mpandas._libs.hashtable.PyObjectHashTable.get_item\u001b[1;34m()\u001b[0m\n",
      "\u001b[1;31mKeyError\u001b[0m: 'Anderson'",
      "\nDuring handling of the above exception, another exception occurred:\n",
      "\u001b[1;31mKeyError\u001b[0m                                  Traceback (most recent call last)",
      "\u001b[1;32m<ipython-input-186-50999232232c>\u001b[0m in \u001b[0;36m<module>\u001b[1;34m\u001b[0m\n\u001b[1;32m----> 1\u001b[1;33m \u001b[0mCovid_info\u001b[0m\u001b[1;33m.\u001b[0m\u001b[0mloc\u001b[0m\u001b[1;33m(\u001b[0m\u001b[0mCovid_info\u001b[0m\u001b[1;33m[\u001b[0m\u001b[1;34m'Anderson'\u001b[0m\u001b[1;33m]\u001b[0m\u001b[1;33m)\u001b[0m\u001b[1;33m\u001b[0m\u001b[1;33m\u001b[0m\u001b[0m\n\u001b[0m",
      "\u001b[1;32m~\\anaconda3\\lib\\site-packages\\pandas\\core\\frame.py\u001b[0m in \u001b[0;36m__getitem__\u001b[1;34m(self, key)\u001b[0m\n\u001b[0;32m   2798\u001b[0m             \u001b[1;32mif\u001b[0m \u001b[0mself\u001b[0m\u001b[1;33m.\u001b[0m\u001b[0mcolumns\u001b[0m\u001b[1;33m.\u001b[0m\u001b[0mnlevels\u001b[0m \u001b[1;33m>\u001b[0m \u001b[1;36m1\u001b[0m\u001b[1;33m:\u001b[0m\u001b[1;33m\u001b[0m\u001b[1;33m\u001b[0m\u001b[0m\n\u001b[0;32m   2799\u001b[0m                 \u001b[1;32mreturn\u001b[0m \u001b[0mself\u001b[0m\u001b[1;33m.\u001b[0m\u001b[0m_getitem_multilevel\u001b[0m\u001b[1;33m(\u001b[0m\u001b[0mkey\u001b[0m\u001b[1;33m)\u001b[0m\u001b[1;33m\u001b[0m\u001b[1;33m\u001b[0m\u001b[0m\n\u001b[1;32m-> 2800\u001b[1;33m             \u001b[0mindexer\u001b[0m \u001b[1;33m=\u001b[0m \u001b[0mself\u001b[0m\u001b[1;33m.\u001b[0m\u001b[0mcolumns\u001b[0m\u001b[1;33m.\u001b[0m\u001b[0mget_loc\u001b[0m\u001b[1;33m(\u001b[0m\u001b[0mkey\u001b[0m\u001b[1;33m)\u001b[0m\u001b[1;33m\u001b[0m\u001b[1;33m\u001b[0m\u001b[0m\n\u001b[0m\u001b[0;32m   2801\u001b[0m             \u001b[1;32mif\u001b[0m \u001b[0mis_integer\u001b[0m\u001b[1;33m(\u001b[0m\u001b[0mindexer\u001b[0m\u001b[1;33m)\u001b[0m\u001b[1;33m:\u001b[0m\u001b[1;33m\u001b[0m\u001b[1;33m\u001b[0m\u001b[0m\n\u001b[0;32m   2802\u001b[0m                 \u001b[0mindexer\u001b[0m \u001b[1;33m=\u001b[0m \u001b[1;33m[\u001b[0m\u001b[0mindexer\u001b[0m\u001b[1;33m]\u001b[0m\u001b[1;33m\u001b[0m\u001b[1;33m\u001b[0m\u001b[0m\n",
      "\u001b[1;32m~\\anaconda3\\lib\\site-packages\\pandas\\core\\indexes\\base.py\u001b[0m in \u001b[0;36mget_loc\u001b[1;34m(self, key, method, tolerance)\u001b[0m\n\u001b[0;32m   2646\u001b[0m                 \u001b[1;32mreturn\u001b[0m \u001b[0mself\u001b[0m\u001b[1;33m.\u001b[0m\u001b[0m_engine\u001b[0m\u001b[1;33m.\u001b[0m\u001b[0mget_loc\u001b[0m\u001b[1;33m(\u001b[0m\u001b[0mkey\u001b[0m\u001b[1;33m)\u001b[0m\u001b[1;33m\u001b[0m\u001b[1;33m\u001b[0m\u001b[0m\n\u001b[0;32m   2647\u001b[0m             \u001b[1;32mexcept\u001b[0m \u001b[0mKeyError\u001b[0m\u001b[1;33m:\u001b[0m\u001b[1;33m\u001b[0m\u001b[1;33m\u001b[0m\u001b[0m\n\u001b[1;32m-> 2648\u001b[1;33m                 \u001b[1;32mreturn\u001b[0m \u001b[0mself\u001b[0m\u001b[1;33m.\u001b[0m\u001b[0m_engine\u001b[0m\u001b[1;33m.\u001b[0m\u001b[0mget_loc\u001b[0m\u001b[1;33m(\u001b[0m\u001b[0mself\u001b[0m\u001b[1;33m.\u001b[0m\u001b[0m_maybe_cast_indexer\u001b[0m\u001b[1;33m(\u001b[0m\u001b[0mkey\u001b[0m\u001b[1;33m)\u001b[0m\u001b[1;33m)\u001b[0m\u001b[1;33m\u001b[0m\u001b[1;33m\u001b[0m\u001b[0m\n\u001b[0m\u001b[0;32m   2649\u001b[0m         \u001b[0mindexer\u001b[0m \u001b[1;33m=\u001b[0m \u001b[0mself\u001b[0m\u001b[1;33m.\u001b[0m\u001b[0mget_indexer\u001b[0m\u001b[1;33m(\u001b[0m\u001b[1;33m[\u001b[0m\u001b[0mkey\u001b[0m\u001b[1;33m]\u001b[0m\u001b[1;33m,\u001b[0m \u001b[0mmethod\u001b[0m\u001b[1;33m=\u001b[0m\u001b[0mmethod\u001b[0m\u001b[1;33m,\u001b[0m \u001b[0mtolerance\u001b[0m\u001b[1;33m=\u001b[0m\u001b[0mtolerance\u001b[0m\u001b[1;33m)\u001b[0m\u001b[1;33m\u001b[0m\u001b[1;33m\u001b[0m\u001b[0m\n\u001b[0;32m   2650\u001b[0m         \u001b[1;32mif\u001b[0m \u001b[0mindexer\u001b[0m\u001b[1;33m.\u001b[0m\u001b[0mndim\u001b[0m \u001b[1;33m>\u001b[0m \u001b[1;36m1\u001b[0m \u001b[1;32mor\u001b[0m \u001b[0mindexer\u001b[0m\u001b[1;33m.\u001b[0m\u001b[0msize\u001b[0m \u001b[1;33m>\u001b[0m \u001b[1;36m1\u001b[0m\u001b[1;33m:\u001b[0m\u001b[1;33m\u001b[0m\u001b[1;33m\u001b[0m\u001b[0m\n",
      "\u001b[1;32mpandas\\_libs\\index.pyx\u001b[0m in \u001b[0;36mpandas._libs.index.IndexEngine.get_loc\u001b[1;34m()\u001b[0m\n",
      "\u001b[1;32mpandas\\_libs\\index.pyx\u001b[0m in \u001b[0;36mpandas._libs.index.IndexEngine.get_loc\u001b[1;34m()\u001b[0m\n",
      "\u001b[1;32mpandas\\_libs\\hashtable_class_helper.pxi\u001b[0m in \u001b[0;36mpandas._libs.hashtable.PyObjectHashTable.get_item\u001b[1;34m()\u001b[0m\n",
      "\u001b[1;32mpandas\\_libs\\hashtable_class_helper.pxi\u001b[0m in \u001b[0;36mpandas._libs.hashtable.PyObjectHashTable.get_item\u001b[1;34m()\u001b[0m\n",
      "\u001b[1;31mKeyError\u001b[0m: 'Anderson'"
     ]
    }
   ],
   "source": [
    "Covid_info.loc(Covid_info['Anderson'])"
   ]
  },
  {
   "cell_type": "code",
   "execution_count": null,
   "metadata": {},
   "outputs": [],
   "source": []
  }
 ]
}